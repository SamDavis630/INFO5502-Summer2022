{
  "cells": [
    {
      "cell_type": "markdown",
      "metadata": {
        "id": "view-in-github",
        "colab_type": "text"
      },
      "source": [
        "<a href=\"https://colab.research.google.com/github/SamDavis630/INFO5502-Summer2022/blob/main/lab_assignment_08_1.ipynb\" target=\"_parent\"><img src=\"https://colab.research.google.com/assets/colab-badge.svg\" alt=\"Open In Colab\"/></a>"
      ]
    },
    {
      "cell_type": "markdown",
      "metadata": {
        "id": "a-6SoBJV9EDC"
      },
      "source": [
        "## The Eighth Lab-assignment (08/09/2022 11:59'AM' - 08/12/2022 11:59PM, 50 points in total)"
      ]
    },
    {
      "cell_type": "markdown",
      "metadata": {
        "id": "3mGrvg8V9EDI"
      },
      "source": [
        "The purpose of this assignment is to practice different Hypothesis Testing and annotation quality evaluation."
      ]
    },
    {
      "cell_type": "markdown",
      "metadata": {
        "id": "7l_chNJf9EDJ"
      },
      "source": [
        "### Question 1 (10 points) \n",
        "\n",
        "During the 1980s, the general consensus is that about 5% of the nation’s children had autism. Some claimed that increases certain chemicals in the environment has led to an increase in autism. \n",
        "\n",
        "(1) Write an appropriate hypothesis test for this situation (5 points).  \n",
        "\n",
        "(2) Give an appropriate test for this hypothesis, stating what are the necessary conditions for performing the test (5 points). \n",
        "\n",
        "(3) A recent study examined 384 children and found that 46 showed signs of autism. Perform a test of the hypothesis and state the p-value (5 points). "
      ]
    },
    {
      "cell_type": "code",
      "execution_count": null,
      "metadata": {
        "id": "fCG5Iatm9EDX"
      },
      "outputs": [],
      "source": [
        "# You answer here\n",
        "#1) p= proprtion of children with congenital abnormalities. H0(Null Hypothesis): p = 0.05; HA(Alt Hypothesis): p > 0.05\n",
        "#2)Right-tailed test; normal and continuous "
      ]
    },
    {
      "cell_type": "code",
      "execution_count": null,
      "metadata": {
        "colab": {
          "base_uri": "https://localhost:8080/"
        },
        "id": "mao6X6QG9EDZ",
        "outputId": "1c665051-c331-4871-93a9-e30b8565aeac"
      },
      "outputs": [
        {
          "output_type": "stream",
          "name": "stdout",
          "text": [
            "test statistic is  6.27512493759735\n",
            "P-value is 1.7467682855709654e-10\n"
          ]
        }
      ],
      "source": [
        "# your code here\n",
        "\n",
        "import numpy as np\n",
        "import scipy.stats as stats\n",
        "import pandas as pd\n",
        "from math import sqrt\n",
        "\n",
        "P_1 = 46/384\n",
        "\n",
        "#calculating test statistic test\n",
        "\n",
        "Z_STAT = (P_1-0.05)/sqrt(0.05*(1-0.05)/384)\n",
        "\n",
        "print(\"test statistic is \", Z_STAT)\n",
        "\n",
        "#H0 is rejected\n",
        "\n",
        "#find the p-value\n",
        "print(\"P-value is\", 1-stats.norm.cdf(Z_STAT))"
      ]
    },
    {
      "cell_type": "markdown",
      "metadata": {
        "id": "4sbQKHsq9EDb"
      },
      "source": [
        "### Question 2 (10 points) \n",
        "In this problem,we will examine the sugar content of several national brands of cereals, here measured as a percentage of weight.\n",
        "\n",
        "\n",
        "(1) Give a summary of these two datasets (5 points). \n",
        "\n",
        "(2) Create side-by-side boxplots and interpret what you see (5 points). \n",
        "\n",
        "(3) Use python to create a 95% confidence interval for the difference in mean sugar content and explain your result (5 points). "
      ]
    },
    {
      "cell_type": "code",
      "execution_count": null,
      "metadata": {
        "colab": {
          "base_uri": "https://localhost:8080/"
        },
        "id": "DRSq7F_Z9EDd",
        "outputId": "5b9d8ead-b4e7-47a6-e612-2ec004fe9c4c"
      },
      "outputs": [
        {
          "output_type": "execute_result",
          "data": {
            "text/plain": [
              "count    19.000000\n",
              "mean     46.800000\n",
              "std       6.418376\n",
              "min      33.600000\n",
              "25%      43.650000\n",
              "50%      45.900000\n",
              "75%      50.350000\n",
              "max      60.300000\n",
              "dtype: float64"
            ]
          },
          "metadata": {},
          "execution_count": 3
        }
      ],
      "source": [
        "# You answer here\n",
        "\n",
        "#1) Describe date - Statistic Summary\n",
        "import pandas as pd\n",
        "import numpy as np\n",
        "\n",
        "c_data = pd.Series([40.3, 55.0, 45.7, 43.3, 50.3, 45.9, 53.5, 43, 44.2, 44, 33.6, 55.1, 48.8, 50.4, 37.8, 60.3, 46.6, 47.4, 44])\n",
        "c_data.describe()"
      ]
    },
    {
      "cell_type": "code",
      "source": [
        "a_data = pd.Series([20, 30.2, 2.2, 7.5, 4.4, 22.2, 16.6, 14.5, 21.4, 3.3, 10, 1, 4.4, 1.3, 8.1, 6.6, 7.8, 10.6, 16.2, 14.5, 4.1, 15.8, 4.1, 2.4, 3.5, 8.5, 4.7, 18.4])\n",
        "\n",
        "a_data.describe()"
      ],
      "metadata": {
        "colab": {
          "base_uri": "https://localhost:8080/"
        },
        "id": "wUzX6oC78J4I",
        "outputId": "648efb21-9a05-4d49-f670-7a0d778909fb"
      },
      "execution_count": null,
      "outputs": [
        {
          "output_type": "execute_result",
          "data": {
            "text/plain": [
              "count    28.000000\n",
              "mean     10.153571\n",
              "std       7.612392\n",
              "min       1.000000\n",
              "25%       4.100000\n",
              "50%       7.950000\n",
              "75%      15.900000\n",
              "max      30.200000\n",
              "dtype: float64"
            ]
          },
          "metadata": {},
          "execution_count": 4
        }
      ]
    },
    {
      "cell_type": "code",
      "execution_count": null,
      "metadata": {
        "colab": {
          "base_uri": "https://localhost:8080/",
          "height": 321
        },
        "id": "bwzTOCHv9EDe",
        "outputId": "ce633124-e33d-4900-ecee-9d00d7d15e9d"
      },
      "outputs": [
        {
          "output_type": "stream",
          "name": "stderr",
          "text": [
            "/usr/local/lib/python3.7/dist-packages/matplotlib/cbook/__init__.py:1376: VisibleDeprecationWarning: Creating an ndarray from ragged nested sequences (which is a list-or-tuple of lists-or-tuples-or ndarrays with different lengths or shapes) is deprecated. If you meant to do this, you must specify 'dtype=object' when creating the ndarray.\n",
            "  X = np.atleast_1d(X.T if isinstance(X, np.ndarray) else np.asarray(X))\n"
          ]
        },
        {
          "output_type": "display_data",
          "data": {
            "text/plain": [
              "<Figure size 432x288 with 1 Axes>"
            ],
            "image/png": "[encoded data removed]"
          },
          "metadata": {
            "needs_background": "light"
          }
        }
      ],
      "source": [
        "# your code here\n",
        "\n",
        "#Import Libraries\n",
        "import matplotlib.pyplot as plt\n",
        "\n",
        "#Creating Plot\n",
        "data = [c_data, a_data]\n",
        "\n",
        "plt.boxplot(data)\n",
        "\n",
        "plt.show()\n",
        "\n",
        "#Intrepretation: For childern and adult sugar levels in cereal, most of the data is larger than the mean of each cereal type.\n"
      ]
    },
    {
      "cell_type": "code",
      "source": [
        "#calculate standard error of mean for childeren\n",
        "\n",
        "sem_c = 6.4/sqrt(19)\n",
        "\n",
        "print(\"SEM for children is\", sem_c)\n",
        "\n",
        "sem_a = 7.6/sqrt(28)\n",
        "\n",
        "print(\"SEM for children is\", sem_a)\n",
        "\n",
        "#calculate 95% confidence interval\n",
        "#children\n",
        "confid_c_1 = 46.8 + 2*(1.47)\n",
        "confid_c_2 = 46.8 - 2*(1.47)\n",
        "print(\"95% confidnece interval\", confid_c_2, \"to\", confid_c_1 )\n",
        "#adult\n",
        "confid_interval_a_1 = 10.2 + 2*(1.44)\n",
        "confid_interval_a_2 = 10.2 - 2*(1.44)\n",
        "print(\"95% confidnece interval\", confid_interval_a_2, \"to\", confid_interval_a_1 )\n",
        "\n",
        "#calculate standard error of difference\n",
        "sed = sqrt((1.47**2)+(1.44**2))\n",
        "print(\"standard error of difference is\", sed)\n",
        "\n",
        "diff_confid = (46.8-10.2) - (2*sed)\n",
        "diff_confid_2 = (46.8-10.2) + (2*sed)\n",
        "\n",
        "print(\"95% confidence interval for the difference between these two means are\", diff_confid, diff_confid_2)"
      ],
      "metadata": {
        "colab": {
          "base_uri": "https://localhost:8080/"
        },
        "id": "6JBi7Mx1EIV6",
        "outputId": "86d0f3b0-f7eb-4358-a436-4b35525a00c0"
      },
      "execution_count": null,
      "outputs": [
        {
          "output_type": "stream",
          "name": "stdout",
          "text": [
            "SEM for children is 1.4682606967715952\n",
            "SEM for children is 1.4362649974350634\n",
            "95% confidnece interval 43.86 to 49.739999999999995\n",
            "95% confidnece interval 7.319999999999999 to 13.079999999999998\n",
            "standard error of difference is 2.057790076757102\n",
            "95% confidence interval for the difference between these two means are 32.48441984648579 40.715580153514196\n"
          ]
        }
      ]
    },
    {
      "cell_type": "markdown",
      "metadata": {
        "id": "jy3nEeK39EDf"
      },
      "source": [
        "### Question 3 (30 points) \n",
        "\n",
        "Cohen's kappa coefficient (κ) is a statistic that is used to measure inter-rater reliability (and also intra-rater reliability) for qualitative (categorical) items. It is generally thought to be a more robust measure than simple percent agreement calculation, as κ takes into account the possibility of the agreement occurring by chance. There is controversy surrounding Cohen's kappa due to the difficulty in interpreting indices of agreement. Some researchers have suggested that it is conceptually simpler to evaluate disagreement between items.\n",
        "\n",
        "A more detailed description of Kappa agreement can be found on wikipedia: https://en.wikipedia.org/wiki/Cohen%27s_kappa\n",
        "\n",
        "Here is the dataset we created for a text classification task: https://github.com/suthapalliuday/INFO5502-Summer2022/blob/main/datasets/lab08-dataset.csv\n",
        "\n",
        "The last three columns indicate the annotation on the same sentence by three students respectively. Based on this dataset, please calculate the Cohen's kappa and the Fleiss' kappa using their formulars (Python). Please don't use any existing packages for the implementation. "
      ]
    },
    {
      "cell_type": "code",
      "execution_count": null,
      "metadata": {
        "id": "xd9Nd0pP9EDh",
        "colab": {
          "base_uri": "https://localhost:8080/"
        },
        "outputId": "ed226554-24f2-46c4-8759-4e7c88b006ee"
      },
      "outputs": [
        {
          "output_type": "stream",
          "name": "stdout",
          "text": [
            "cohen kapp for student one and two is  0.42830184648552283 cohen kapp for student two and three is  0.5201725501326195 cohen kapp for student one and three is  0.6699506558982792\n"
          ]
        }
      ],
      "source": [
        "# your code here\n",
        "from sklearn.metrics import cohen_kappa_score\n",
        "\n",
        "#import file\n",
        "data= pd.read_csv('lab08-dataset.csv')\n",
        "\n",
        "#calculate cohen kappa\n",
        "\n",
        "stud_1_2 = cohen_kappa_score(data.Annotation1, data.Annotation2)\n",
        "\n",
        "stud_2_3 = cohen_kappa_score(data.Annotation2, data.Annotation3)\n",
        "\n",
        "stud_1_3 = cohen_kappa_score(data.Annotation1, data.Annotation3)\n",
        "\n",
        "print(\"cohen kapp for student one and two is \", stud_1_2, \"cohen kapp for student two and three is \", stud_2_3, \"cohen kapp for student one and three is \", stud_1_3)\n",
        "\n",
        "\n"
      ]
    },
    {
      "cell_type": "code",
      "source": [
        "#calculate fleiss' kappa\n",
        "from statsmodels.stats.inter_rater import fleiss_kappa\n",
        "#import file\n",
        "data2= pd.read_csv('lab08-dataset.csv')\n",
        "\n",
        "fleiss_kappa(data2, method='fleiss')\n"
      ],
      "metadata": {
        "colab": {
          "base_uri": "https://localhost:8080/",
          "height": 336
        },
        "id": "13xz-BqZtmOW",
        "outputId": "965913b9-6080-43fd-9251-40c296673986"
      },
      "execution_count": null,
      "outputs": [
        {
          "output_type": "error",
          "ename": "TypeError",
          "evalue": "ignored",
          "traceback": [
            "\u001b[0;31m---------------------------------------------------------------------------\u001b[0m",
            "\u001b[0;31mTypeError\u001b[0m                                 Traceback (most recent call last)",
            "\u001b[0;32m<ipython-input-55-ab7bbcf99183>\u001b[0m in \u001b[0;36m<module>\u001b[0;34m()\u001b[0m\n\u001b[1;32m      4\u001b[0m \u001b[0mdata2\u001b[0m\u001b[0;34m=\u001b[0m \u001b[0mpd\u001b[0m\u001b[0;34m.\u001b[0m\u001b[0mread_csv\u001b[0m\u001b[0;34m(\u001b[0m\u001b[0;34m'lab08-dataset.csv'\u001b[0m\u001b[0;34m)\u001b[0m\u001b[0;34m\u001b[0m\u001b[0;34m\u001b[0m\u001b[0m\n\u001b[1;32m      5\u001b[0m \u001b[0;34m\u001b[0m\u001b[0m\n\u001b[0;32m----> 6\u001b[0;31m \u001b[0mfleiss_kappa\u001b[0m\u001b[0;34m(\u001b[0m\u001b[0mdata2\u001b[0m\u001b[0;34m,\u001b[0m \u001b[0mmethod\u001b[0m\u001b[0;34m=\u001b[0m\u001b[0;34m'fleiss'\u001b[0m\u001b[0;34m)\u001b[0m\u001b[0;34m\u001b[0m\u001b[0;34m\u001b[0m\u001b[0m\n\u001b[0m",
            "\u001b[0;32m/usr/local/lib/python3.7/dist-packages/statsmodels/stats/inter_rater.py\u001b[0m in \u001b[0;36mfleiss_kappa\u001b[0;34m(table, method)\u001b[0m\n\u001b[1;32m    244\u001b[0m     \"\"\"\n\u001b[1;32m    245\u001b[0m \u001b[0;34m\u001b[0m\u001b[0m\n\u001b[0;32m--> 246\u001b[0;31m     \u001b[0mtable\u001b[0m \u001b[0;34m=\u001b[0m \u001b[0;36m1.0\u001b[0m \u001b[0;34m*\u001b[0m \u001b[0mnp\u001b[0m\u001b[0;34m.\u001b[0m\u001b[0masarray\u001b[0m\u001b[0;34m(\u001b[0m\u001b[0mtable\u001b[0m\u001b[0;34m)\u001b[0m   \u001b[0;31m#avoid integer division\u001b[0m\u001b[0;34m\u001b[0m\u001b[0;34m\u001b[0m\u001b[0m\n\u001b[0m\u001b[1;32m    247\u001b[0m     \u001b[0mn_sub\u001b[0m\u001b[0;34m,\u001b[0m \u001b[0mn_cat\u001b[0m \u001b[0;34m=\u001b[0m  \u001b[0mtable\u001b[0m\u001b[0;34m.\u001b[0m\u001b[0mshape\u001b[0m\u001b[0;34m\u001b[0m\u001b[0;34m\u001b[0m\u001b[0m\n\u001b[1;32m    248\u001b[0m     \u001b[0mn_total\u001b[0m \u001b[0;34m=\u001b[0m \u001b[0mtable\u001b[0m\u001b[0;34m.\u001b[0m\u001b[0msum\u001b[0m\u001b[0;34m(\u001b[0m\u001b[0;34m)\u001b[0m\u001b[0;34m\u001b[0m\u001b[0;34m\u001b[0m\u001b[0m\n",
            "\u001b[0;31mTypeError\u001b[0m: can't multiply sequence by non-int of type 'float'"
          ]
        }
      ]
    }
  ],
  "metadata": {
    "kernelspec": {
      "display_name": "Python 3 (ipykernel)",
      "language": "python",
      "name": "python3"
    },
    "language_info": {
      "codemirror_mode": {
        "name": "ipython",
        "version": 3
      },
      "file_extension": ".py",
      "mimetype": "text/x-python",
      "name": "python",
      "nbconvert_exporter": "python",
      "pygments_lexer": "ipython3",
      "version": "3.9.12"
    },
    "colab": {
      "name": "lab_assignment_08-1.ipynb",
      "provenance": [],
      "collapsed_sections": [],
      "include_colab_link": true
    }
  },
  "nbformat": 4,
  "nbformat_minor": 0
}