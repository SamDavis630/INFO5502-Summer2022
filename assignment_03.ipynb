{
  "cells": [
    {
      "cell_type": "markdown",
      "metadata": {
        "id": "view-in-github",
        "colab_type": "text"
      },
      "source": [
        "<a href=\"https://colab.research.google.com/github/SamDavis630/INFO5502-Summer2022/blob/main/assignment_03.ipynb\" target=\"_parent\"><img src=\"https://colab.research.google.com/assets/colab-badge.svg\" alt=\"Open In Colab\"/></a>"
      ]
    },
    {
      "cell_type": "markdown",
      "metadata": {
        "id": "VTC3vpo3uDY5"
      },
      "source": [
        "## The third Lab-assignment (07/22/2022 11:59'AM' - 07/26/2022 11:59PM, 50 points in total)"
      ]
    },
    {
      "cell_type": "markdown",
      "metadata": {
        "id": "srZh0GvbuDY8"
      },
      "source": [
        "The purpose of this exercise is to understand users' information needs, then collect data from different sources for analysis."
      ]
    },
    {
      "cell_type": "markdown",
      "metadata": {
        "id": "mHvxE3OhuDY9"
      },
      "source": [
        "Question 1 (10 points). Fomulate your domain problem: Describe an interesting research question (or practical question) you have in mind, what kind of data should be collected to answer the question(s)? How many data needed for the analysis? The detail steps for collecting and save the data. "
      ]
    },
    {
      "cell_type": "code",
      "execution_count": 27,
      "metadata": {
        "colab": {
          "base_uri": "https://localhost:8080/",
          "height": 200
        },
        "id": "wxWGofvduDY-",
        "outputId": "2bc5f85f-f19c-42ee-c9db-06089ac1abed"
      },
      "outputs": [
        {
          "output_type": "execute_result",
          "data": {
            "text/plain": [
              "\"\\nPlease write you answer here:\\n\\nBy my surprise I received an inquiry to purchase my paid-off car from a car dealership in the mail a few weeks ago. \\nIn the last few years, the pre-owned car market has experienced significant changes with a raise in value, high demand, and low supply. \\nI'm interested in researching the pre-owned car market for the Honda models with the best resell value. The data may influence my decision to sell my car back to the dealership.\\nTo answer this question, I will collect data from an online pre-owned car dealership website using the web scraping method with a python code. \\nI will collect the Honda model types, days on the market, sale price, and mileage for 1,000 cars. Websites have this information readily avaiable per car in the preview text. \\nOnce the four metrics have been scrapped for 1,000, I will save my data in a csv file.\\n\\n\\n\\n\\n\\n\""
            ],
            "application/vnd.google.colaboratory.intrinsic+json": {
              "type": "string"
            }
          },
          "metadata": {},
          "execution_count": 27
        }
      ],
      "source": [
        "# Your answer here (no code for this question, write down your answer as detail as possible for the above questions):\n",
        "\n",
        "'''\n",
        "Please write you answer here:\n",
        "\n",
        "By my surprise I received an inquiry to purchase my paid-off car from a car dealership in the mail a few weeks ago. \n",
        "In the last few years, the pre-owned car market has experienced significant changes with a raise in value, high demand, and low supply. \n",
        "I'm interested in researching the pre-owned car market for the Honda models with the best resell value. The data may influence my decision to sell my car back to the dealership.\n",
        "To answer this question, I will collect data from an online pre-owned car dealership website using the web scraping method with a python code. \n",
        "I will collect the Honda model types and sale price of the cars. Websites have this information readily avaiable per car in the preview text. \n",
        "Once the four metrics have been scrapped for 1,000, I will save my data in a csv file.\n",
        "\n",
        "\n",
        "\n",
        "\n",
        "\n",
        "'''"
      ]
    },
    {
      "cell_type": "markdown",
      "metadata": {
        "id": "tVfLvVvjuDY_"
      },
      "source": [
        "Question 2 (30 points). Collect your data to answer the research problem: Write python code to collect 1000 data samples you discussed above."
      ]
    },
    {
      "cell_type": "code",
      "source": [
        "from bs4.element import NamespacedAttribute\n",
        "from bs4 import BeautifulSoup as bs\n",
        "import requests\n",
        "import re\n",
        "\n",
        "#GET request\n",
        "req_data= requests.get('https://www.carvana.com/cars/honda?utm_source=bing&utm_medium=sem_nb&utm_term=1&utm_campaign=382882848&utm_content=1213861324186502&utm_target=kwd-75866689358866:loc-71124&utm_creative=&utm_device=c&utm_adposition=&utm_rollup=1&msclkid=39da1d86815a1276a46a7f663befc291')\n",
        "\n",
        "#Parsing the HTML\n",
        "soup = bs(req_data.content, 'html.parser')\n",
        "\n",
        "#Getting car price\n",
        "cost = soup.find_all('div', class_='price')\n",
        "\n",
        "#Getting car make\n",
        "make = soup.find_all('div', class_='year-make')\n",
        "\n",
        "#print car cost\n",
        "for x in cost:\n",
        "  print(x)\n",
        "  \n",
        "#print car make\n",
        "for y in make:\n",
        "  print(y)\n",
        "\n",
        "\n"
      ],
      "metadata": {
        "colab": {
          "base_uri": "https://localhost:8080/"
        },
        "id": "CtsyTpqXyNL-",
        "outputId": "e33eb805-2247-4f79-b956-983da4329b52"
      },
      "execution_count": 48,
      "outputs": [
        {
          "output_type": "stream",
          "name": "stdout",
          "text": [
            "<div class=\"price \">$<!-- -->14,590</div>\n",
            "<div class=\"price \">$<!-- -->21,990</div>\n",
            "<div class=\"price \">$<!-- -->18,590</div>\n",
            "<div class=\"price \">$<!-- -->18,990</div>\n",
            "<div class=\"price \">$<!-- -->16,590</div>\n",
            "<div class=\"price \">$<!-- -->19,990</div>\n",
            "<div class=\"price \">$<!-- -->14,990</div>\n",
            "<div class=\"price \">$<!-- -->17,590</div>\n",
            "<div class=\"price \">$<!-- -->20,990</div>\n",
            "<div class=\"price \">$<!-- -->23,990</div>\n",
            "<div class=\"price \">$<!-- -->16,590</div>\n",
            "<div class=\"price \">$<!-- -->24,590</div>\n",
            "<div class=\"price \">$<!-- -->19,990</div>\n",
            "<div class=\"price \">$<!-- -->16,990</div>\n",
            "<div class=\"price \">$<!-- -->17,990</div>\n",
            "<div class=\"price \">$<!-- -->13,990</div>\n",
            "<div class=\"price \">$<!-- -->16,990</div>\n",
            "<div class=\"price \">$<!-- -->17,590</div>\n",
            "<div class=\"price \">$<!-- -->16,590</div>\n",
            "<div class=\"price \">$<!-- -->18,990</div>\n",
            "<div class=\"price \">$<!-- -->17,990</div>\n",
            "<div class=\"year-make\">2011<!-- --> <!-- -->Honda<!-- --> <!-- -->Civic</div>\n",
            "<div class=\"year-make\">2015<!-- --> <!-- -->Honda<!-- --> <!-- -->CR-V</div>\n",
            "<div class=\"year-make\">2015<!-- --> <!-- -->Honda<!-- --> <!-- -->CR-V</div>\n",
            "<div class=\"year-make\">2016<!-- --> <!-- -->Honda<!-- --> <!-- -->Accord</div>\n",
            "<div class=\"year-make\">2012<!-- --> <!-- -->Honda<!-- --> <!-- -->Accord</div>\n",
            "<div class=\"year-make\">2016<!-- --> <!-- -->Honda<!-- --> <!-- -->HR-V</div>\n",
            "<div class=\"year-make\">2010<!-- --> <!-- -->Honda<!-- --> <!-- -->Fit</div>\n",
            "<div class=\"year-make\">2015<!-- --> <!-- -->Honda<!-- --> <!-- -->Fit</div>\n",
            "<div class=\"year-make\">2013<!-- --> <!-- -->Honda<!-- --> <!-- -->Odyssey</div>\n",
            "<div class=\"year-make\">2016<!-- --> <!-- -->Honda<!-- --> <!-- -->Civic</div>\n",
            "<div class=\"year-make\">2012<!-- --> <!-- -->Honda<!-- --> <!-- -->Civic</div>\n",
            "<div class=\"year-make\">2016<!-- --> <!-- -->Honda<!-- --> <!-- -->Civic</div>\n",
            "<div class=\"year-make\">2017<!-- --> <!-- -->Honda<!-- --> <!-- -->HR-V</div>\n",
            "<div class=\"year-make\">2010<!-- --> <!-- -->Honda<!-- --> <!-- -->CR-V</div>\n",
            "<div class=\"year-make\">2012<!-- --> <!-- -->Honda<!-- --> <!-- -->Accord</div>\n",
            "<div class=\"year-make\">2010<!-- --> <!-- -->Honda<!-- --> <!-- -->Fit</div>\n",
            "<div class=\"year-make\">2011<!-- --> <!-- -->Honda<!-- --> <!-- -->Accord Crosstour</div>\n",
            "<div class=\"year-make\">2013<!-- --> <!-- -->Honda<!-- --> <!-- -->Civic</div>\n",
            "<div class=\"year-make\">2012<!-- --> <!-- -->Honda<!-- --> <!-- -->CR-V</div>\n",
            "<div class=\"year-make\">2015<!-- --> <!-- -->Honda<!-- --> <!-- -->Civic</div>\n",
            "<div class=\"year-make\">2011<!-- --> <!-- -->Honda<!-- --> <!-- -->Accord</div>\n"
          ]
        }
      ]
    },
    {
      "cell_type": "markdown",
      "metadata": {
        "id": "nnaJ3DGBuDZA"
      },
      "source": [
        "Question 3 (10 points). Understand the data quality: Search a second hand dataset (any dataset) from kaggle or other websites. Describe the data quality problem of the dataset and explain your strtegy to clean the data."
      ]
    },
    {
      "cell_type": "code",
      "execution_count": 31,
      "metadata": {
        "colab": {
          "base_uri": "https://localhost:8080/",
          "height": 218
        },
        "id": "Y-OTx1IBuDZB",
        "outputId": "4a1b7ee2-0011-4edc-bfcb-13dbf082b5a7"
      },
      "outputs": [
        {
          "output_type": "execute_result",
          "data": {
            "text/plain": [
              "'\\n\\nPlease write you answer here:\\n\\nThe used car dataset has 426,880 rows and 26 columns.\\nThe dataset is missing data in the year, manufacturer, model, condition, cylinders, fuel type, \\nodometer, title_status, vin, drive, size, type, paint_color, image_url, decription, county, lat, long, and posting_date column. \\nThere are 162 rows missing more than over 20/26 data fields. Due the substanial amount of missing data fields, I would delete the 150 rows from the dataset to decrease the opportunity of skewed data.\\nAlso, in the price column there 32,890 values with zero. This would need further review to see if the cars are free or have a text such as \"contact order via email\". \\nSize data field has 306,334 mising data, which greater than 50% of the rows. I would delete the size column because there\\'s not enough data points to use a data field in my analysis. \\nI checked for duplicate rows using the primary key and there are no duplicates in the dataset.\\nNo structural changes needed.\\nThe other columns with missing data did not have a substanial amount of missing values and can be reviewed manually by viewing the link provided for each row. \\n\\n\\n\\n\\n\\n\\n'"
            ],
            "application/vnd.google.colaboratory.intrinsic+json": {
              "type": "string"
            }
          },
          "metadata": {},
          "execution_count": 31
        }
      ],
      "source": [
        "# Your answer here (no code for this question, write down your answer as detail as possible for the above questions):\n",
        "'''\n",
        "\n",
        "Please write you answer here:\n",
        "\n",
        "The used car dataset has 426,880 rows and 26 columns.\n",
        "The dataset is missing data in the year, manufacturer, model, condition, cylinders, fuel type, \n",
        "odometer, title_status, vin, drive, size, type, paint_color, image_url, decription, county, lat, long, and posting_date column. \n",
        "There are 162 rows missing more than over 20/26 data fields. Due the substanial amount of missing data fields, I would delete the 150 rows from the dataset to decrease the opportunity of skewed data.\n",
        "Also, in the price column there 32,890 values with zero. This would need further review to see if the cars are free or have a text such as \"contact order via email\". \n",
        "Size data field has 306,334 mising data, which greater than 50% of the rows. I would delete the size column because there's not enough data points to use a data field in my analysis. \n",
        "I checked for duplicate rows using the primary key and there are no duplicates in the dataset.\n",
        "No structural changes needed.\n",
        "The other columns with missing data did not have a substanial amount of missing values and can be reviewed manually by viewing the link provided for each row. \n",
        "\n",
        "\n",
        "\n",
        "\n",
        "\n",
        "\n",
        "'''"
      ]
    }
  ],
  "metadata": {
    "kernelspec": {
      "display_name": "Python 3 (ipykernel)",
      "language": "python",
      "name": "python3"
    },
    "language_info": {
      "codemirror_mode": {
        "name": "ipython",
        "version": 3
      },
      "file_extension": ".py",
      "mimetype": "text/x-python",
      "name": "python",
      "nbconvert_exporter": "python",
      "pygments_lexer": "ipython3",
      "version": "3.9.12"
    },
    "vscode": {
      "interpreter": {
        "hash": "5c6a7f839effdddf35473dacbb9a8184e57ebbba5133cab03b12e4f28d4f0d0f"
      }
    },
    "colab": {
      "name": "assignment_03.ipynb",
      "provenance": [],
      "collapsed_sections": [],
      "include_colab_link": true
    }
  },
  "nbformat": 4,
  "nbformat_minor": 0
}